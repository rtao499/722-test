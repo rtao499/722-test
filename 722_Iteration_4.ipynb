{
 "cells": [
  {
   "cell_type": "code",
   "execution_count": 1,
   "metadata": {},
   "outputs": [],
   "source": [
    "# Must be included at the beginning of each new notebook. Remember to change the app name.\n",
    "import findspark\n",
    "findspark.init('/home/ubuntu/spark-2.1.1-bin-hadoop2.7')\n",
    "import pyspark\n",
    "from pyspark.sql import SparkSession\n",
    "spark = SparkSession.builder.appName('722_Iteration_4').getOrCreate()\n",
    "\n",
    "# Import the relevant Python libraries.\n",
    "import numpy as np\n",
    "import matplotlib.pyplot as plt\n",
    "%matplotlib inline"
   ]
  },
  {
   "cell_type": "markdown",
   "metadata": {},
   "source": [
    "# Explore the data"
   ]
  },
  {
   "cell_type": "code",
   "execution_count": 2,
   "metadata": {},
   "outputs": [],
   "source": [
    "# Use Spark to read in the Ecommerce Customers csv file. \n",
    "AirDataI = spark.read.csv(\"AirPollution_summary.csv\",inferSchema=True,header=True)"
   ]
  },
  {
   "cell_type": "code",
   "execution_count": 3,
   "metadata": {
    "scrolled": true
   },
   "outputs": [
    {
     "name": "stdout",
     "output_type": "stream",
     "text": [
      "root\n",
      " |-- _c0: integer (nullable = true)\n",
      " |-- Measurement date: string (nullable = true)\n",
      " |-- Station code: integer (nullable = true)\n",
      " |-- Address: string (nullable = true)\n",
      " |-- Latitude: double (nullable = true)\n",
      " |-- Longitude: double (nullable = true)\n",
      " |-- SO2: double (nullable = true)\n",
      " |-- NO2: double (nullable = true)\n",
      " |-- O3: double (nullable = true)\n",
      " |-- CO: double (nullable = true)\n",
      " |-- PM10: integer (nullable = true)\n",
      " |-- PM2.5: integer (nullable = true)\n",
      " |-- class1: integer (nullable = true)\n",
      " |-- class2: integer (nullable = true)\n",
      "\n"
     ]
    },
    {
     "data": {
      "text/plain": [
       "Row(_c0=0, Measurement date='2017/1/1 0:00', Station code=101, Address='19, Jong-ro 35ga-gil, Jongno-gu, Seoul, Republic of Korea', Latitude=37.5720164, Longitude=127.0050075, SO2=0.004, NO2=0.059, O3=0.002, CO=1.2, PM10=73, PM2.5=57, class1=0, class2=1)"
      ]
     },
     "execution_count": 3,
     "metadata": {},
     "output_type": "execute_result"
    }
   ],
   "source": [
    "AirDataI.printSchema()\n",
    "AirDataI.head()"
   ]
  },
  {
   "cell_type": "code",
   "execution_count": 4,
   "metadata": {},
   "outputs": [
    {
     "data": {
      "text/plain": [
       "[('_c0', 'int'),\n",
       " ('Measurement date', 'string'),\n",
       " ('Station code', 'int'),\n",
       " ('Address', 'string'),\n",
       " ('Latitude', 'double'),\n",
       " ('Longitude', 'double'),\n",
       " ('SO2', 'double'),\n",
       " ('NO2', 'double'),\n",
       " ('O3', 'double'),\n",
       " ('CO', 'double'),\n",
       " ('PM10', 'int'),\n",
       " ('PM2.5', 'int'),\n",
       " ('class1', 'int'),\n",
       " ('class2', 'int')]"
      ]
     },
     "execution_count": 4,
     "metadata": {},
     "output_type": "execute_result"
    }
   ],
   "source": [
    "AirDataI.dtypes"
   ]
  },
  {
   "cell_type": "code",
   "execution_count": 5,
   "metadata": {},
   "outputs": [
    {
     "data": {
      "image/png": "[encoded data removed]",
      "text/plain": [
       "<Figure size 432x288 with 1 Axes>"
      ]
     },
     "metadata": {},
     "output_type": "display_data"
    }
   ],
   "source": [
    "plt.plot(np.array(AirDataI.select('SO2').collect()))\n",
    "plt.show()"
   ]
  },
  {
   "cell_type": "code",
   "execution_count": 6,
   "metadata": {},
   "outputs": [
    {
     "data": {
      "text/plain": [
       "647511"
      ]
     },
     "execution_count": 6,
     "metadata": {},
     "output_type": "execute_result"
    }
   ],
   "source": [
    "AirDataI.count()"
   ]
  },
  {
   "cell_type": "markdown",
   "metadata": {},
   "source": [
    "# Data Clean"
   ]
  },
  {
   "cell_type": "code",
   "execution_count": 3,
   "metadata": {},
   "outputs": [
    {
     "data": {
      "text/plain": [
       "Row(_c0=0, Measurement date='2017/1/1 0:00', Station code=101, Address='19, Jong-ro 35ga-gil, Jongno-gu, Seoul, Republic of Korea', Latitude=37.5720164, Longitude=127.0050075, SO2=0.004, NO2=0.059, O3=0.002, CO=1.2, PM10=73, PM2_5=57, class1=0, class2=1)"
      ]
     },
     "execution_count": 3,
     "metadata": {},
     "output_type": "execute_result"
    }
   ],
   "source": [
    "AirDataII = AirDataI.withColumnRenamed(\"PM2.5\",\"PM2_5\")\n",
    "AirDataII.head()"
   ]
  },
  {
   "cell_type": "code",
   "execution_count": 23,
   "metadata": {},
   "outputs": [
    {
     "name": "stdout",
     "output_type": "stream",
     "text": [
      "+---+----------------+------------+--------------------+----------+-----------+-----+-----+-----+----+----+-----+\n",
      "|_c0|Measurement date|Station code|             Address|  Latitude|  Longitude|  SO2|  NO2|   O3|  CO|PM10|PM2_5|\n",
      "+---+----------------+------------+--------------------+----------+-----------+-----+-----+-----+----+----+-----+\n",
      "|  0|   2017/1/1 0:00|         101|19, Jong-ro 35ga-...|37.5720164|127.0050075|0.004|0.059|0.002| 1.2|  73|   57|\n",
      "|  1|   2017/1/1 1:00|         101|19, Jong-ro 35ga-...|37.5720164|127.0050075|0.004|0.058|0.002| 1.2|  71|   59|\n",
      "|  2|   2017/1/1 2:00|         101|19, Jong-ro 35ga-...|37.5720164|127.0050075|0.004|0.056|0.002| 1.2|  70|   59|\n",
      "|  3|   2017/1/1 3:00|         101|19, Jong-ro 35ga-...|37.5720164|127.0050075|0.004|0.056|0.002| 1.2|  70|   58|\n",
      "|  4|   2017/1/1 4:00|         101|19, Jong-ro 35ga-...|37.5720164|127.0050075|0.003|0.051|0.002| 1.2|  69|   61|\n",
      "|  5|   2017/1/1 5:00|         101|19, Jong-ro 35ga-...|37.5720164|127.0050075|0.003|0.046|0.002| 1.1|  70| null|\n",
      "|  6|   2017/1/1 6:00|         101|19, Jong-ro 35ga-...|37.5720164|127.0050075|0.003|0.049|0.002| 1.1|  66|   57|\n",
      "|  7|   2017/1/1 7:00|         101|19, Jong-ro 35ga-...|37.5720164|127.0050075|0.003|0.045|0.002| 1.0|  71|   60|\n",
      "|  8|   2017/1/1 8:00|         101|19, Jong-ro 35ga-...|37.5720164|127.0050075|0.004|0.047|0.002| 1.1|  72|   60|\n",
      "|  9|   2017/1/1 9:00|         101|19, Jong-ro 35ga-...|37.5720164|127.0050075|0.003|0.047|0.002| 1.1|  74|   63|\n",
      "| 10|  2017/1/1 10:00|         101|19, Jong-ro 35ga-...|37.5720164|127.0050075|0.004|0.045|0.004| 1.0|  76|   68|\n",
      "| 11|  2017/1/1 11:00|         101|19, Jong-ro 35ga-...|37.5720164|127.0050075|0.004|0.048|0.005| 1.0|  83|   74|\n",
      "| 12|  2017/1/1 12:00|         101|19, Jong-ro 35ga-...|37.5720164|127.0050075|0.004|0.054|0.005| 1.0|  93|   79|\n",
      "| 13|  2017/1/1 13:00|         101|19, Jong-ro 35ga-...|37.5720164|127.0050075|0.005| 0.05|0.007| 1.0|  94|   79|\n",
      "| 14|  2017/1/1 14:00|         101|19, Jong-ro 35ga-...|37.5720164|127.0050075|0.006|0.055|0.008| 0.9|  93|   78|\n",
      "| 15|  2017/1/1 15:00|         101|19, Jong-ro 35ga-...|37.5720164|127.0050075|0.006|0.056|0.008| 0.8|  87|   69|\n",
      "| 16|  2017/1/1 16:00|         101|19, Jong-ro 35ga-...|37.5720164|127.0050075|0.006|0.063|0.004|null|  87|   69|\n",
      "| 17|  2017/1/1 17:00|         101|19, Jong-ro 35ga-...|37.5720164|127.0050075|0.005|0.063|0.002| 0.9|  91|   72|\n",
      "| 18|  2017/1/1 18:00|         101|19, Jong-ro 35ga-...|37.5720164|127.0050075|0.005|0.063|0.002| 1.0|  91|   69|\n",
      "| 19|  2017/1/1 19:00|         101|19, Jong-ro 35ga-...|37.5720164|127.0050075|0.005|0.062|0.002| 1.0|  92|   70|\n",
      "+---+----------------+------------+--------------------+----------+-----------+-----+-----+-----+----+----+-----+\n",
      "only showing top 20 rows\n",
      "\n"
     ]
    }
   ],
   "source": [
    "AirDataII.select('_c0','Measurement date','Station code','Address','Latitude','Longitude','SO2','NO2','O3','CO','PM10','PM2_5').show()"
   ]
  },
  {
   "cell_type": "code",
   "execution_count": 4,
   "metadata": {},
   "outputs": [
    {
     "name": "stdout",
     "output_type": "stream",
     "text": [
      "647511\n"
     ]
    }
   ],
   "source": [
    "AirData = AirDataII.select('Station code',\n",
    "                           'SO2',\n",
    "                           'NO2',\n",
    "                           'O3',\n",
    "                           'CO',\n",
    "                           'PM10',\n",
    "                           'PM2_5',\n",
    "                           'class1',\n",
    "                           'class2')\n",
    "print(AirData.count())"
   ]
  },
  {
   "cell_type": "code",
   "execution_count": 9,
   "metadata": {},
   "outputs": [
    {
     "name": "stdout",
     "output_type": "stream",
     "text": [
      "14\n",
      "9\n",
      "+------------+-----+-----+-----+----+----+-----+------+------+\n",
      "|Station code|  SO2|  NO2|   O3|  CO|PM10|PM2_5|class1|class2|\n",
      "+------------+-----+-----+-----+----+----+-----+------+------+\n",
      "|         101|0.004|0.059|0.002| 1.2|  73|   57|     0|     1|\n",
      "|         101|0.004|0.058|0.002| 1.2|  71|   59|     0|     1|\n",
      "|         101|0.004|0.056|0.002| 1.2|  70|   59|     0|     1|\n",
      "|         101|0.004|0.056|0.002| 1.2|  70|   58|     0|     1|\n",
      "|         101|0.003|0.051|0.002| 1.2|  69|   61|     0|     1|\n",
      "|         101|0.003|0.046|0.002| 1.1|  70| null|     0|     1|\n",
      "|         101|0.003|0.049|0.002| 1.1|  66|   57|     0|     1|\n",
      "|         101|0.003|0.045|0.002| 1.0|  71|   60|     0|     1|\n",
      "|         101|0.004|0.047|0.002| 1.1|  72|   60|     0|     1|\n",
      "|         101|0.003|0.047|0.002| 1.1|  74|   63|     0|     1|\n",
      "|         101|0.004|0.045|0.004| 1.0|  76|   68|     0|     1|\n",
      "|         101|0.004|0.048|0.005| 1.0|  83|   74|     0|     1|\n",
      "|         101|0.004|0.054|0.005| 1.0|  93|   79|     0|     1|\n",
      "|         101|0.005| 0.05|0.007| 1.0|  94|   79|     0|     1|\n",
      "|         101|0.006|0.055|0.008| 0.9|  93|   78|     0|     1|\n",
      "|         101|0.006|0.056|0.008| 0.8|  87|   69|     0|     1|\n",
      "|         101|0.006|0.063|0.004|null|  87|   69|     0|     1|\n",
      "|         101|0.005|0.063|0.002| 0.9|  91|   72|     0|     1|\n",
      "|         101|0.005|0.063|0.002| 1.0|  91|   69|     0|     1|\n",
      "|         101|0.005|0.062|0.002| 1.0|  92|   70|     0|     1|\n",
      "+------------+-----+-----+-----+----+----+-----+------+------+\n",
      "only showing top 20 rows\n",
      "\n"
     ]
    }
   ],
   "source": [
    "print(len(AirDataII.columns))\n",
    "print(len(AirData.columns))\n",
    "AirData.show()"
   ]
  },
  {
   "cell_type": "code",
   "execution_count": 5,
   "metadata": {},
   "outputs": [
    {
     "name": "stdout",
     "output_type": "stream",
     "text": [
      "Original  647511\n",
      "New  647470\n"
     ]
    }
   ],
   "source": [
    "print(\"Original \",AirData.count())\n",
    "tempset = AirData.na.drop(subset=\"Station code\")\n",
    "print(\"New \",tempset.count())"
   ]
  },
  {
   "cell_type": "code",
   "execution_count": 6,
   "metadata": {},
   "outputs": [
    {
     "name": "stdout",
     "output_type": "stream",
     "text": [
      "[Row(avg(SO2)=-0.001795500741384939)] [Row(avg(NO2)=0.02251788348283784)] [Row(avg(O3)=0.017978183373982992)] [Row(avg(CO)=0.5091966947250777)] [Row(avg(PM10)=43.707006428454484)] [Row(avg(PM2_5)=25.411403285221137)]\n"
     ]
    }
   ],
   "source": [
    "from pyspark.sql.functions import mean\n",
    "\n",
    "# Let's collect the average. You'll notice that the collection returns the average in an interesting format.\n",
    "mean_SO2 = tempset.select(mean(tempset['SO2'])).collect()\n",
    "mean_NO2 = tempset.select(mean(tempset['NO2'])).collect()\n",
    "mean_O3 = tempset.select(mean(tempset['O3'])).collect()\n",
    "mean_CO = tempset.select(mean(tempset['CO'])).collect()\n",
    "mean_PM10 = tempset.select(mean(tempset['PM10'])).collect()\n",
    "mean_PM2_5 = tempset.select(mean(tempset['PM2_5'])).collect()\n",
    "print(mean_SO2,mean_NO2,mean_O3,mean_CO,mean_PM10,mean_PM2_5)"
   ]
  },
  {
   "cell_type": "code",
   "execution_count": 7,
   "metadata": {},
   "outputs": [],
   "source": [
    "tempset = tempset.na.fill(mean_SO2[0][0], subset=['SO2'])\n",
    "tempset = tempset.na.fill(mean_NO2[0][0], subset=['NO2'])\n",
    "tempset = tempset.na.fill(mean_O3[0][0], subset=['O3'])\n",
    "tempset = tempset.na.fill(mean_CO[0][0], subset=['CO'])\n",
    "tempset = tempset.na.fill(mean_PM10[0][0], subset=['PM10'])\n",
    "tempset = tempset.na.fill(mean_PM2_5[0][0], subset=['PM2_5'])"
   ]
  },
  {
   "cell_type": "code",
   "execution_count": 8,
   "metadata": {},
   "outputs": [
    {
     "data": {
      "text/plain": [
       "632381"
      ]
     },
     "execution_count": 8,
     "metadata": {},
     "output_type": "execute_result"
    }
   ],
   "source": [
    "airdata = tempset.filter( (tempset['SO2'] > 0)\n",
    "                        & (tempset['NO2'] > 0)\n",
    "                        & (tempset['O3'] > 0)\n",
    "                        & (tempset['CO'] > 0)\n",
    "                        & (tempset['PM10'] > 0)\n",
    "                        & (tempset['PM2_5'] > 0))\n",
    "airdata.count()"
   ]
  },
  {
   "cell_type": "markdown",
   "metadata": {},
   "source": [
    "#### Set up target column"
   ]
  },
  {
   "cell_type": "code",
   "execution_count": 14,
   "metadata": {
    "scrolled": true
   },
   "outputs": [],
   "source": [
    "# use \"class1\" as target\n",
    "airdata1 = airdata.select('Station code',\n",
    "                           'SO2',\n",
    "                           'NO2',\n",
    "                           'O3',\n",
    "                           'CO',\n",
    "                           'PM10',\n",
    "                           'PM2_5',\n",
    "                           'class1')\n",
    "\n",
    "# use \"class2\" as target\n",
    "airdata2 = airdata.select('Station code',\n",
    "                           'SO2',\n",
    "                           'NO2',\n",
    "                           'O3',\n",
    "                           'CO',\n",
    "                           'PM10',\n",
    "                           'PM2_5',\n",
    "                           'class2')"
   ]
  },
  {
   "cell_type": "markdown",
   "metadata": {},
   "source": [
    "# Modeling"
   ]
  },
  {
   "cell_type": "code",
   "execution_count": 9,
   "metadata": {},
   "outputs": [],
   "source": [
    "# Import VectorAssembler and Vectors\n",
    "from pyspark.ml.linalg import Vectors\n",
    "from pyspark.ml.feature import VectorAssembler\n",
    "from pyspark.ml.evaluation import BinaryClassificationEvaluator"
   ]
  },
  {
   "cell_type": "code",
   "execution_count": 10,
   "metadata": {},
   "outputs": [],
   "source": [
    "# The input columns are the feature column names\n",
    "assembler = VectorAssembler(\n",
    "    inputCols=['SO2',\n",
    "               'NO2',\n",
    "               'O3',\n",
    "               'CO',\n",
    "               'PM10',\n",
    "               'PM2_5'],\n",
    "    outputCol=\"features\")"
   ]
  },
  {
   "cell_type": "code",
   "execution_count": 11,
   "metadata": {},
   "outputs": [],
   "source": [
    "# Now that we've created the assembler variable, let's actually transform the data.\n",
    "output = assembler.transform(airdata)"
   ]
  },
  {
   "cell_type": "code",
   "execution_count": 12,
   "metadata": {},
   "outputs": [
    {
     "name": "stdout",
     "output_type": "stream",
     "text": [
      "root\n",
      " |-- Station code: integer (nullable = true)\n",
      " |-- SO2: double (nullable = false)\n",
      " |-- NO2: double (nullable = false)\n",
      " |-- O3: double (nullable = false)\n",
      " |-- CO: double (nullable = false)\n",
      " |-- PM10: integer (nullable = true)\n",
      " |-- PM2_5: integer (nullable = true)\n",
      " |-- class1: integer (nullable = true)\n",
      " |-- class2: integer (nullable = true)\n",
      " |-- features: vector (nullable = true)\n",
      "\n"
     ]
    },
    {
     "data": {
      "text/plain": [
       "[Row(Station code=101, SO2=0.004, NO2=0.059, O3=0.002, CO=1.2, PM10=73, PM2_5=57, class1=0, class2=1, features=DenseVector([0.004, 0.059, 0.002, 1.2, 73.0, 57.0]))]"
      ]
     },
     "execution_count": 12,
     "metadata": {},
     "output_type": "execute_result"
    }
   ],
   "source": [
    "# Using print schema to see that the features output column has been added. \n",
    "output.printSchema()\n",
    "output.head(1)"
   ]
  },
  {
   "cell_type": "code",
   "execution_count": 13,
   "metadata": {},
   "outputs": [
    {
     "name": "stdout",
     "output_type": "stream",
     "text": [
      "+--------------------+------+------+\n",
      "|            features|class1|class2|\n",
      "+--------------------+------+------+\n",
      "|[0.004,0.059,0.00...|     0|     1|\n",
      "|[0.004,0.058,0.00...|     0|     1|\n",
      "|[0.004,0.056,0.00...|     0|     1|\n",
      "|[0.004,0.056,0.00...|     0|     1|\n",
      "|[0.003,0.051,0.00...|     0|     1|\n",
      "|[0.003,0.046,0.00...|     0|     1|\n",
      "|[0.003,0.049,0.00...|     0|     1|\n",
      "|[0.003,0.045,0.00...|     0|     1|\n",
      "|[0.004,0.047,0.00...|     0|     1|\n",
      "|[0.003,0.047,0.00...|     0|     1|\n",
      "|[0.004,0.045,0.00...|     0|     1|\n",
      "|[0.004,0.048,0.00...|     0|     1|\n",
      "|[0.004,0.054,0.00...|     0|     1|\n",
      "|[0.005,0.05,0.007...|     0|     1|\n",
      "|[0.006,0.055,0.00...|     0|     1|\n",
      "|[0.006,0.056,0.00...|     0|     1|\n",
      "|[0.006,0.063,0.00...|     0|     1|\n",
      "|[0.005,0.063,0.00...|     0|     1|\n",
      "|[0.005,0.063,0.00...|     0|     1|\n",
      "|[0.005,0.062,0.00...|     0|     1|\n",
      "+--------------------+------+------+\n",
      "only showing top 20 rows\n",
      "\n"
     ]
    }
   ],
   "source": [
    "lrdata = output.select(\"features\",'class1','class2')\n",
    "lrdata.show()"
   ]
  },
  {
   "cell_type": "code",
   "execution_count": 14,
   "metadata": {},
   "outputs": [],
   "source": [
    "# Let's do a randomised 70/30 split. \n",
    "train_data,test_data = lrdata.randomSplit([0.7,0.3])"
   ]
  },
  {
   "cell_type": "markdown",
   "metadata": {},
   "source": [
    "## Linear Regression"
   ]
  },
  {
   "cell_type": "code",
   "execution_count": 15,
   "metadata": {},
   "outputs": [],
   "source": [
    "from pyspark.ml.regression import LinearRegression"
   ]
  },
  {
   "cell_type": "code",
   "execution_count": 16,
   "metadata": {},
   "outputs": [],
   "source": [
    "lr1 = LinearRegression(labelCol='class1')\n",
    "lr2 = LinearRegression(labelCol='class2')"
   ]
  },
  {
   "cell_type": "code",
   "execution_count": 17,
   "metadata": {},
   "outputs": [],
   "source": [
    "# Fit the model to the data.\n",
    "lrModel1 = lr1.fit(train_data.select(\"features\",'class1'))\n",
    "lrModel2 = lr2.fit(train_data.select(\"features\",'class2'))"
   ]
  },
  {
   "cell_type": "code",
   "execution_count": 18,
   "metadata": {},
   "outputs": [
    {
     "name": "stdout",
     "output_type": "stream",
     "text": [
      "Class 1:\n",
      "Coefficients: [0.5479799754580255,-0.05477291080505086,-0.020844172205460126,-0.016432893516060438,0.0005169037469957465,-6.31950956380888e-05] Intercept: -0.011147176720307555\n"
     ]
    }
   ],
   "source": [
    "# Print the coefficients and intercept for linear regression of class1.\n",
    "print(\"Class 1:\")\n",
    "print(\"Coefficients: {} Intercept: {}\".format(lrModel1.coefficients,lrModel1.intercept))"
   ]
  },
  {
   "cell_type": "code",
   "execution_count": 19,
   "metadata": {},
   "outputs": [
    {
     "name": "stdout",
     "output_type": "stream",
     "text": [
      "Class 2:\n",
      "Coefficients: [-0.4841704155141556,-0.06013054446916638,0.3581319991134589,0.10495727353859298,0.0002652139869917895,0.00037249596690548285] Intercept: 0.8435022920377495\n"
     ]
    }
   ],
   "source": [
    "# Print the coefficients and intercept for linear regression of class2.\n",
    "print(\"Class 2:\")\n",
    "print(\"Coefficients: {} Intercept: {}\".format(lrModel2.coefficients,lrModel2.intercept))"
   ]
  },
  {
   "cell_type": "markdown",
   "metadata": {},
   "source": [
    "#### Class 1"
   ]
  },
  {
   "cell_type": "code",
   "execution_count": 20,
   "metadata": {},
   "outputs": [],
   "source": [
    "# Let's evaluate the model against the test data.\n",
    "test_results1 = lrModel1.evaluate(test_data.select(\"features\",'class1'))"
   ]
  },
  {
   "cell_type": "code",
   "execution_count": 21,
   "metadata": {},
   "outputs": [
    {
     "name": "stdout",
     "output_type": "stream",
     "text": [
      "+--------------------+\n",
      "|           residuals|\n",
      "+--------------------+\n",
      "|5.789101286096977E-4|\n",
      "|-0.05349450363092832|\n",
      "|-0.22184699660837262|\n",
      "|0.012600707331867966|\n",
      "|0.006416202169526...|\n",
      "|0.011407940161938952|\n",
      "|0.013392994863150752|\n",
      "|0.008618237435567805|\n",
      "|-0.00427167797426...|\n",
      "|-0.00344506960632...|\n",
      "|-0.01233393258921...|\n",
      "| 0.01259847344224081|\n",
      "|0.009232265016801232|\n",
      "|0.003994877764520523|\n",
      "|-0.09195724103344172|\n",
      "| 0.00856742716221541|\n",
      "|  0.0139152235707293|\n",
      "|0.003688066543040317|\n",
      "|0.008126840242338612|\n",
      "|0.013733814316086041|\n",
      "+--------------------+\n",
      "only showing top 20 rows\n",
      "\n",
      "RSME: 0.025094327198250978\n"
     ]
    }
   ],
   "source": [
    "# Interesting results! This shows the difference between the predicted value and the test data.\n",
    "test_results1.residuals.show()\n",
    "\n",
    "# Let's get some evaluation metrics (as discussed in the previous linear regression notebook).\n",
    "print(\"RSME: {}\".format(test_results1.rootMeanSquaredError))"
   ]
  },
  {
   "cell_type": "code",
   "execution_count": 22,
   "metadata": {},
   "outputs": [
    {
     "name": "stdout",
     "output_type": "stream",
     "text": [
      "R2: 0.6620190680279838\n"
     ]
    }
   ],
   "source": [
    "# We can also get the R2 value. \n",
    "print(\"R2: {}\".format(test_results1.r2))"
   ]
  },
  {
   "cell_type": "markdown",
   "metadata": {},
   "source": [
    "#### Class 2"
   ]
  },
  {
   "cell_type": "code",
   "execution_count": 23,
   "metadata": {},
   "outputs": [],
   "source": [
    "# Let's evaluate the model against the test data.\n",
    "test_results2 = lrModel2.evaluate(test_data.select(\"features\",'class2'))"
   ]
  },
  {
   "cell_type": "code",
   "execution_count": 24,
   "metadata": {},
   "outputs": [
    {
     "name": "stdout",
     "output_type": "stream",
     "text": [
      "+--------------------+\n",
      "|           residuals|\n",
      "+--------------------+\n",
      "| 0.12291809452711244|\n",
      "|-0.01222642157901177|\n",
      "|-0.18312509619299977|\n",
      "| 0.12620242595432707|\n",
      "| 0.11511133063729251|\n",
      "| 0.08184785254793936|\n",
      "| 0.09604145947210696|\n",
      "| 0.11516287622150989|\n",
      "| -0.8727675692261027|\n",
      "| 0.09732141875382405|\n",
      "| 0.07298280399552104|\n",
      "| 0.11952223859217814|\n",
      "| 0.11547385678517874|\n",
      "| 0.10283621728640713|\n",
      "|-0.02182711780999025|\n",
      "| 0.09448342891392358|\n",
      "| 0.09821759454360446|\n",
      "| 0.07371341801580078|\n",
      "| 0.11574855128947537|\n",
      "| 0.09432796866210191|\n",
      "+--------------------+\n",
      "only showing top 20 rows\n",
      "\n",
      "RSME: 0.2595718580277865\n"
     ]
    }
   ],
   "source": [
    "# Interesting results! This shows the difference between the predicted value and the test data.\n",
    "test_results2.residuals.show()\n",
    "\n",
    "# Let's get some evaluation metrics (as discussed in the previous linear regression notebook).\n",
    "print(\"RSME: {}\".format(test_results2.rootMeanSquaredError))"
   ]
  },
  {
   "cell_type": "code",
   "execution_count": 25,
   "metadata": {},
   "outputs": [
    {
     "name": "stdout",
     "output_type": "stream",
     "text": [
      "R2: 0.02839927515673979\n"
     ]
    }
   ],
   "source": [
    "# We can also get the R2 value. \n",
    "print(\"R2: {}\".format(test_results2.r2))"
   ]
  },
  {
   "cell_type": "markdown",
   "metadata": {},
   "source": [
    "## Logistic Regression"
   ]
  },
  {
   "cell_type": "code",
   "execution_count": 26,
   "metadata": {},
   "outputs": [],
   "source": [
    "from pyspark.ml.classification import LogisticRegression"
   ]
  },
  {
   "cell_type": "code",
   "execution_count": 27,
   "metadata": {},
   "outputs": [],
   "source": [
    "lor1 = LogisticRegression(featuresCol='features',labelCol='class1')\n",
    "lor2 = LogisticRegression(featuresCol='features',labelCol='class2')"
   ]
  },
  {
   "cell_type": "code",
   "execution_count": 28,
   "metadata": {},
   "outputs": [],
   "source": [
    "# Fit the model to the data.\n",
    "lorModel1 = lor1.fit(train_data.select(\"features\",'class1'))\n",
    "lorModel2 = lor2.fit(train_data.select(\"features\",'class2'))"
   ]
  },
  {
   "cell_type": "markdown",
   "metadata": {},
   "source": [
    "#### Class 1"
   ]
  },
  {
   "cell_type": "code",
   "execution_count": 29,
   "metadata": {},
   "outputs": [
    {
     "name": "stdout",
     "output_type": "stream",
     "text": [
      "+--------------------+------+--------------------+--------------------+----------+\n",
      "|            features|class1|       rawPrediction|         probability|prediction|\n",
      "+--------------------+------+--------------------+--------------------+----------+\n",
      "|[0.001,0.001,0.03...|   0.0|[185.161254715276...|[1.0,3.8502489834...|       0.0|\n",
      "|[0.001,0.001,0.06...|   0.0|[181.945512359564...|[1.0,9.5955080734...|       0.0|\n",
      "|[0.001,0.002,0.00...|   0.0|[108.746714530620...|[1.0,5.9142809906...|       0.0|\n",
      "|[0.001,0.003,0.00...|   0.0|[105.481041924962...|[1.0,1.5494071172...|       0.0|\n",
      "|[0.001,0.003,0.00...|   0.0|[185.509142822456...|[1.0,2.7189606955...|       0.0|\n",
      "|[0.001,0.003,0.03...|   0.0|[186.157760924035...|[1.0,1.4213848011...|       0.0|\n",
      "|[0.001,0.003,0.03...|   0.0|[187.501129882438...|[1.0,3.7093169274...|       0.0|\n",
      "|[0.001,0.003,0.04...|   0.0|[188.676887033769...|[1.0,1.1446404746...|       0.0|\n",
      "|[0.001,0.003,0.04...|   0.0|[188.567641391024...|[1.0,1.2767735536...|       0.0|\n",
      "|[0.001,0.003,0.05...|   0.0|[177.741640056226...|[1.0,6.4237187677...|       0.0|\n",
      "|[0.001,0.004,0.00...|   0.0|[104.777780798981...|[1.0,3.1303145000...|       0.0|\n",
      "|[0.001,0.004,0.01...|   0.0|[180.458349631147...|[1.0,4.2455556882...|       0.0|\n",
      "|[0.001,0.004,0.02...|   0.0|[184.202467846437...|[1.0,1.0043490227...|       0.0|\n",
      "|[0.001,0.004,0.03...|   0.0|[183.126929242783...|[1.0,2.9443209013...|       0.0|\n",
      "|[0.001,0.004,0.03...|   0.0|[191.575023158393...|[1.0,6.3099304424...|       0.0|\n",
      "|[0.001,0.004,0.04...|   0.0|[188.042856196590...|[1.0,2.1578695789...|       0.0|\n",
      "|[0.001,0.004,0.04...|   0.0|[188.848619996930...|[1.0,9.6402083511...|       0.0|\n",
      "|[0.001,0.004,0.04...|   0.0|[188.645821848961...|[1.0,1.1807570216...|       0.0|\n",
      "|[0.001,0.004,0.04...|   0.0|[189.758096459782...|[1.0,3.8824494605...|       0.0|\n",
      "|[0.001,0.004,0.05...|   0.0|[177.744063199090...|[1.0,6.4081720230...|       0.0|\n",
      "+--------------------+------+--------------------+--------------------+----------+\n",
      "only showing top 20 rows\n",
      "\n"
     ]
    }
   ],
   "source": [
    "lorModel1.summary.predictions.show()"
   ]
  },
  {
   "cell_type": "code",
   "execution_count": 30,
   "metadata": {},
   "outputs": [],
   "source": [
    "# Let's evaluate the model against the test data.\n",
    "results1 = lorModel1.transform(test_data.select(\"features\",'class1'))\n",
    "my_eval1 = BinaryClassificationEvaluator(rawPredictionCol='prediction',\n",
    "                                       labelCol='class1')"
   ]
  },
  {
   "cell_type": "code",
   "execution_count": 31,
   "metadata": {},
   "outputs": [
    {
     "data": {
      "text/plain": [
       "0.997177830498283"
      ]
     },
     "execution_count": 31,
     "metadata": {},
     "output_type": "execute_result"
    }
   ],
   "source": [
    "AUC = my_eval1.evaluate(results1)\n",
    "\n",
    "AUC"
   ]
  },
  {
   "cell_type": "markdown",
   "metadata": {},
   "source": [
    "#### Class 2"
   ]
  },
  {
   "cell_type": "code",
   "execution_count": 32,
   "metadata": {},
   "outputs": [
    {
     "name": "stdout",
     "output_type": "stream",
     "text": [
      "+--------------------+------+--------------------+--------------------+----------+\n",
      "|            features|class2|       rawPrediction|         probability|prediction|\n",
      "+--------------------+------+--------------------+--------------------+----------+\n",
      "|[0.001,0.001,0.03...|   1.0|[1.85584516132626...|[0.86481193234640...|       0.0|\n",
      "|[0.001,0.001,0.06...|   1.0|[-3.1235500998208...|[0.04214622142544...|       1.0|\n",
      "|[0.001,0.002,0.00...|   1.0|[-2.5075421159100...|[0.07533113813207...|       1.0|\n",
      "|[0.001,0.003,0.00...|   1.0|[-2.3717910242362...|[0.08534921973671...|       1.0|\n",
      "|[0.001,0.003,0.00...|   0.0|[7.13401860070048...|[0.99920312743948...|       0.0|\n",
      "|[0.001,0.003,0.03...|   1.0|[1.30815130553348...|[0.78720363796980...|       0.0|\n",
      "|[0.001,0.003,0.03...|   1.0|[1.01349949552064...|[0.73370444743525...|       0.0|\n",
      "|[0.001,0.003,0.04...|   1.0|[-0.0624020081156...|[0.48440455837729...|       1.0|\n",
      "|[0.001,0.003,0.04...|   1.0|[-0.1658330243967...|[0.45863649389001...|       1.0|\n",
      "|[0.001,0.003,0.05...|   1.0|[-4.4034937235958...|[0.01208664677782...|       1.0|\n",
      "|[0.001,0.004,0.00...|   1.0|[-4.3485916023255...|[0.01276007924567...|       1.0|\n",
      "|[0.001,0.004,0.01...|   1.0|[1.33073846117428...|[0.79096275868908...|       0.0|\n",
      "|[0.001,0.004,0.02...|   1.0|[2.75841901086787...|[0.94038706667094...|       0.0|\n",
      "|[0.001,0.004,0.03...|   1.0|[-0.2475166226143...|[0.43843483701022...|       1.0|\n",
      "|[0.001,0.004,0.03...|   1.0|[1.90569016598162...|[0.87053418572895...|       0.0|\n",
      "|[0.001,0.004,0.04...|   1.0|[-0.5675582595896...|[0.36180043439216...|       1.0|\n",
      "|[0.001,0.004,0.04...|   1.0|[-0.2738476491777...|[0.43196274771915...|       1.0|\n",
      "|[0.001,0.004,0.04...|   1.0|[-0.1913734829926...|[0.45230211366567...|       1.0|\n",
      "|[0.001,0.004,0.04...|   1.0|[-2.4244521040910...|[0.08132700512973...|       1.0|\n",
      "|[0.001,0.004,0.05...|   1.0|[-3.1351156038452...|[0.04168178748125...|       1.0|\n",
      "+--------------------+------+--------------------+--------------------+----------+\n",
      "only showing top 20 rows\n",
      "\n"
     ]
    }
   ],
   "source": [
    "lorModel2.summary.predictions.show()"
   ]
  },
  {
   "cell_type": "code",
   "execution_count": 33,
   "metadata": {},
   "outputs": [],
   "source": [
    "# Let's evaluate the model against the test data.\n",
    "results2 = lorModel2.transform(test_data.select(\"features\",'class2'))\n",
    "my_eval2 = BinaryClassificationEvaluator(rawPredictionCol='prediction',\n",
    "                                       labelCol='class2')"
   ]
  },
  {
   "cell_type": "code",
   "execution_count": 34,
   "metadata": {},
   "outputs": [
    {
     "data": {
      "text/plain": [
       "0.750010419675927"
      ]
     },
     "execution_count": 34,
     "metadata": {},
     "output_type": "execute_result"
    }
   ],
   "source": [
    "AUC = my_eval2.evaluate(results2)\n",
    "\n",
    "AUC"
   ]
  },
  {
   "cell_type": "markdown",
   "metadata": {},
   "source": [
    "## Tree Methods"
   ]
  },
  {
   "cell_type": "code",
   "execution_count": 16,
   "metadata": {},
   "outputs": [],
   "source": [
    "# Let's import the relevant classifiers. \n",
    "from pyspark.ml.classification import DecisionTreeClassifier,GBTClassifier,RandomForestClassifier"
   ]
  },
  {
   "cell_type": "markdown",
   "metadata": {},
   "source": [
    "#### Class 1"
   ]
  },
  {
   "cell_type": "code",
   "execution_count": 16,
   "metadata": {},
   "outputs": [],
   "source": [
    "# Use defaults set\n",
    "dtc1 = DecisionTreeClassifier(labelCol='class1',featuresCol='features')\n",
    "rfc1 = RandomForestClassifier(labelCol='class1',featuresCol='features')\n",
    "gbt1 = GBTClassifier(labelCol='class1',featuresCol='features')"
   ]
  },
  {
   "cell_type": "code",
   "execution_count": 17,
   "metadata": {},
   "outputs": [],
   "source": [
    "# Train the models: DTC Tree, RFC Tree, GBT Tree\n",
    "dtc_model1 = dtc1.fit(train_data.select(\"features\",'class1'))\n",
    "rfc_model1 = rfc1.fit(train_data.select(\"features\",'class1'))\n",
    "gbt_model1 = gbt1.fit(train_data.select(\"features\",'class1'))"
   ]
  },
  {
   "cell_type": "code",
   "execution_count": 18,
   "metadata": {},
   "outputs": [],
   "source": [
    "# Model Comparison\n",
    "dtc_predictions1 = dtc_model1.transform(test_data.select(\"features\",'class1'))\n",
    "rfc_predictions1 = rfc_model1.transform(test_data.select(\"features\",'class1'))\n",
    "gbt_predictions1 = gbt_model1.transform(test_data.select(\"features\",'class1'))"
   ]
  },
  {
   "cell_type": "code",
   "execution_count": 21,
   "metadata": {},
   "outputs": [],
   "source": [
    "# The label column \"class1\"\n",
    "my_binary_eval1 = BinaryClassificationEvaluator(labelCol = 'class1')"
   ]
  },
  {
   "cell_type": "code",
   "execution_count": 22,
   "metadata": {},
   "outputs": [
    {
     "name": "stdout",
     "output_type": "stream",
     "text": [
      "DTC\n",
      "0.986015492538146\n",
      "RFC\n",
      "0.9966954434828434\n",
      "GBT\n",
      "0.6445361585531949\n"
     ]
    }
   ],
   "source": [
    "# DTC Accuracy\n",
    "print(\"DTC\")\n",
    "print(my_binary_eval1.evaluate(dtc_predictions1))\n",
    "\n",
    "# RFC Accuracy\n",
    "print(\"RFC\")\n",
    "print(my_binary_eval1.evaluate(rfc_predictions1))\n",
    "\n",
    "# GBT Accuracy\n",
    "my_binary_gbt_eval1 = BinaryClassificationEvaluator(labelCol='class1', rawPredictionCol='prediction')\n",
    "print(\"GBT\")\n",
    "print(my_binary_gbt_eval1.evaluate(gbt_predictions1))"
   ]
  },
  {
   "cell_type": "markdown",
   "metadata": {},
   "source": [
    "#### Class 2"
   ]
  },
  {
   "cell_type": "code",
   "execution_count": 17,
   "metadata": {},
   "outputs": [],
   "source": [
    "# Use defaults set\n",
    "dtc2 = DecisionTreeClassifier(labelCol='class2',featuresCol='features')\n",
    "rfc2 = RandomForestClassifier(labelCol='class2',featuresCol='features')\n",
    "gbt2 = GBTClassifier(labelCol='class2',featuresCol='features')"
   ]
  },
  {
   "cell_type": "code",
   "execution_count": 18,
   "metadata": {},
   "outputs": [],
   "source": [
    "# Train the models: DTC Tree, RFC Tree, GBT Tree\n",
    "dtc_model2 = dtc2.fit(train_data.select(\"features\",'class2'))\n",
    "rfc_model2 = rfc2.fit(train_data.select(\"features\",'class2'))\n",
    "gbt_model2 = gbt2.fit(train_data.select(\"features\",'class2'))"
   ]
  },
  {
   "cell_type": "code",
   "execution_count": 19,
   "metadata": {},
   "outputs": [],
   "source": [
    "# Model Comparison\n",
    "dtc_predictions2 = dtc_model2.transform(test_data.select(\"features\",'class2'))\n",
    "rfc_predictions2 = rfc_model2.transform(test_data.select(\"features\",'class2'))\n",
    "gbt_predictions2 = gbt_model2.transform(test_data.select(\"features\",'class2'))"
   ]
  },
  {
   "cell_type": "code",
   "execution_count": 20,
   "metadata": {},
   "outputs": [],
   "source": [
    "# The label column \"class2\"\n",
    "my_binary_eval2 = BinaryClassificationEvaluator(labelCol = 'class2')"
   ]
  },
  {
   "cell_type": "code",
   "execution_count": 21,
   "metadata": {},
   "outputs": [
    {
     "name": "stdout",
     "output_type": "stream",
     "text": [
      "DTC\n",
      "0.987212912750262\n",
      "RFC\n",
      "0.9999676588150211\n",
      "GBT\n",
      "0.9979119479048697\n"
     ]
    }
   ],
   "source": [
    "# DTC Accuracy\n",
    "print(\"DTC\")\n",
    "print(my_binary_eval2.evaluate(dtc_predictions2))\n",
    "\n",
    "# RFC Accuracy\n",
    "print(\"RFC\")\n",
    "print(my_binary_eval2.evaluate(rfc_predictions2))\n",
    "\n",
    "# GBT Accuracy\n",
    "my_binary_gbt_eval2 = BinaryClassificationEvaluator(labelCol='class2', rawPredictionCol='prediction')\n",
    "print(\"GBT\")\n",
    "print(my_binary_gbt_eval2.evaluate(gbt_predictions2)) "
   ]
  },
  {
   "cell_type": "code",
   "execution_count": null,
   "metadata": {},
   "outputs": [],
   "source": []
  }
 ],
 "metadata": {
  "kernelspec": {
   "display_name": "Python 3",
   "language": "python",
   "name": "python3"
  },
  "language_info": {
   "codemirror_mode": {
    "name": "ipython",
    "version": 3
   },
   "file_extension": ".py",
   "mimetype": "text/x-python",
   "name": "python",
   "nbconvert_exporter": "python",
   "pygments_lexer": "ipython3",
   "version": "3.5.2"
  }
 },
 "nbformat": 4,
 "nbformat_minor": 2
}
